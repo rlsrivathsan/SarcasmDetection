{
  "nbformat": 4,
  "nbformat_minor": 0,
  "metadata": {
    "colab": {
      "name": "Untitled9.ipynb",
      "provenance": [],
      "collapsed_sections": []
    },
    "kernelspec": {
      "name": "python3",
      "display_name": "Python 3"
    }
  },
  "cells": [
    {
      "cell_type": "code",
      "metadata": {
        "id": "r2OD9JE_tXUV",
        "colab_type": "code",
        "colab": {
          "base_uri": "https://localhost:8080/",
          "height": 34
        },
        "outputId": "e48392f2-9f2d-4a9e-c972-515ba84aacf5"
      },
      "source": [
        "#Importing the main libraries\n",
        "import numpy as np\n",
        "import pandas as pd\n",
        "import matplotlib.pyplot as plt\n",
        "import tensorflow as tf\n",
        "import keras\n",
        "import os\n",
        "import re"
      ],
      "execution_count": 1,
      "outputs": [
        {
          "output_type": "stream",
          "text": [
            "Using TensorFlow backend.\n"
          ],
          "name": "stderr"
        }
      ]
    },
    {
      "cell_type": "code",
      "metadata": {
        "id": "UaY-6ev2tfrH",
        "colab_type": "code",
        "colab": {
          "base_uri": "https://localhost:8080/",
          "height": 51
        },
        "outputId": "35775340-bed4-4e55-b869-64013321443c"
      },
      "source": [
        "#Taking note of the current versions used\n",
        "print(tf.__version__)\n",
        "print(keras.__version__)"
      ],
      "execution_count": 2,
      "outputs": [
        {
          "output_type": "stream",
          "text": [
            "2.2.0\n",
            "2.3.1\n"
          ],
          "name": "stdout"
        }
      ]
    },
    {
      "cell_type": "code",
      "metadata": {
        "id": "lxc5qH_ltj9W",
        "colab_type": "code",
        "colab": {
          "base_uri": "https://localhost:8080/",
          "height": 204
        },
        "outputId": "5eb0ce13-f59a-4b10-e11f-ead587fc89a1"
      },
      "source": [
        "data=pd.read_json('dataset.json',lines=True)\n",
        "data.head()"
      ],
      "execution_count": 3,
      "outputs": [
        {
          "output_type": "execute_result",
          "data": {
            "text/html": [
              "<div>\n",
              "<style scoped>\n",
              "    .dataframe tbody tr th:only-of-type {\n",
              "        vertical-align: middle;\n",
              "    }\n",
              "\n",
              "    .dataframe tbody tr th {\n",
              "        vertical-align: top;\n",
              "    }\n",
              "\n",
              "    .dataframe thead th {\n",
              "        text-align: right;\n",
              "    }\n",
              "</style>\n",
              "<table border=\"1\" class=\"dataframe\">\n",
              "  <thead>\n",
              "    <tr style=\"text-align: right;\">\n",
              "      <th></th>\n",
              "      <th>is_sarcastic</th>\n",
              "      <th>headline</th>\n",
              "      <th>article_link</th>\n",
              "    </tr>\n",
              "  </thead>\n",
              "  <tbody>\n",
              "    <tr>\n",
              "      <th>0</th>\n",
              "      <td>1</td>\n",
              "      <td>thirtysomething scientists unveil doomsday clo...</td>\n",
              "      <td>https://www.theonion.com/thirtysomething-scien...</td>\n",
              "    </tr>\n",
              "    <tr>\n",
              "      <th>1</th>\n",
              "      <td>0</td>\n",
              "      <td>dem rep. totally nails why congress is falling...</td>\n",
              "      <td>https://www.huffingtonpost.com/entry/donna-edw...</td>\n",
              "    </tr>\n",
              "    <tr>\n",
              "      <th>2</th>\n",
              "      <td>0</td>\n",
              "      <td>eat your veggies: 9 deliciously different recipes</td>\n",
              "      <td>https://www.huffingtonpost.com/entry/eat-your-...</td>\n",
              "    </tr>\n",
              "    <tr>\n",
              "      <th>3</th>\n",
              "      <td>1</td>\n",
              "      <td>inclement weather prevents liar from getting t...</td>\n",
              "      <td>https://local.theonion.com/inclement-weather-p...</td>\n",
              "    </tr>\n",
              "    <tr>\n",
              "      <th>4</th>\n",
              "      <td>1</td>\n",
              "      <td>mother comes pretty close to using word 'strea...</td>\n",
              "      <td>https://www.theonion.com/mother-comes-pretty-c...</td>\n",
              "    </tr>\n",
              "  </tbody>\n",
              "</table>\n",
              "</div>"
            ],
            "text/plain": [
              "   is_sarcastic  ...                                       article_link\n",
              "0             1  ...  https://www.theonion.com/thirtysomething-scien...\n",
              "1             0  ...  https://www.huffingtonpost.com/entry/donna-edw...\n",
              "2             0  ...  https://www.huffingtonpost.com/entry/eat-your-...\n",
              "3             1  ...  https://local.theonion.com/inclement-weather-p...\n",
              "4             1  ...  https://www.theonion.com/mother-comes-pretty-c...\n",
              "\n",
              "[5 rows x 3 columns]"
            ]
          },
          "metadata": {
            "tags": []
          },
          "execution_count": 3
        }
      ]
    },
    {
      "cell_type": "markdown",
      "metadata": {
        "id": "0WNPfropt-y2",
        "colab_type": "text"
      },
      "source": [
        "Now, this dataset needs preprocessing before feeding the suitable data to an LSTM. This includes :\n",
        "\n",
        "Getting the oraganisation of the artice, and save only that.\n",
        "Remove all special characters from the sentences, to be left with plain text (wil be done automatically using tokenizer)."
      ]
    },
    {
      "cell_type": "code",
      "metadata": {
        "id": "zmUDZgRXt_mi",
        "colab_type": "code",
        "colab": {
          "base_uri": "https://localhost:8080/",
          "height": 204
        },
        "outputId": "3f73365d-fbca-4f29-aa80-bd1ff6528937"
      },
      "source": [
        "#Removing the link, and putting the organisation in its place\n",
        "data[\"organization\"]=data[\"article_link\"].apply(lambda x: re.findall(r\"\\w+\",x)[2])\n",
        "data=data.drop([\"article_link\"],axis=1)\n",
        "data.head()"
      ],
      "execution_count": 4,
      "outputs": [
        {
          "output_type": "execute_result",
          "data": {
            "text/html": [
              "<div>\n",
              "<style scoped>\n",
              "    .dataframe tbody tr th:only-of-type {\n",
              "        vertical-align: middle;\n",
              "    }\n",
              "\n",
              "    .dataframe tbody tr th {\n",
              "        vertical-align: top;\n",
              "    }\n",
              "\n",
              "    .dataframe thead th {\n",
              "        text-align: right;\n",
              "    }\n",
              "</style>\n",
              "<table border=\"1\" class=\"dataframe\">\n",
              "  <thead>\n",
              "    <tr style=\"text-align: right;\">\n",
              "      <th></th>\n",
              "      <th>is_sarcastic</th>\n",
              "      <th>headline</th>\n",
              "      <th>organization</th>\n",
              "    </tr>\n",
              "  </thead>\n",
              "  <tbody>\n",
              "    <tr>\n",
              "      <th>0</th>\n",
              "      <td>1</td>\n",
              "      <td>thirtysomething scientists unveil doomsday clo...</td>\n",
              "      <td>theonion</td>\n",
              "    </tr>\n",
              "    <tr>\n",
              "      <th>1</th>\n",
              "      <td>0</td>\n",
              "      <td>dem rep. totally nails why congress is falling...</td>\n",
              "      <td>huffingtonpost</td>\n",
              "    </tr>\n",
              "    <tr>\n",
              "      <th>2</th>\n",
              "      <td>0</td>\n",
              "      <td>eat your veggies: 9 deliciously different recipes</td>\n",
              "      <td>huffingtonpost</td>\n",
              "    </tr>\n",
              "    <tr>\n",
              "      <th>3</th>\n",
              "      <td>1</td>\n",
              "      <td>inclement weather prevents liar from getting t...</td>\n",
              "      <td>theonion</td>\n",
              "    </tr>\n",
              "    <tr>\n",
              "      <th>4</th>\n",
              "      <td>1</td>\n",
              "      <td>mother comes pretty close to using word 'strea...</td>\n",
              "      <td>theonion</td>\n",
              "    </tr>\n",
              "  </tbody>\n",
              "</table>\n",
              "</div>"
            ],
            "text/plain": [
              "   is_sarcastic  ...    organization\n",
              "0             1  ...        theonion\n",
              "1             0  ...  huffingtonpost\n",
              "2             0  ...  huffingtonpost\n",
              "3             1  ...        theonion\n",
              "4             1  ...        theonion\n",
              "\n",
              "[5 rows x 3 columns]"
            ]
          },
          "metadata": {
            "tags": []
          },
          "execution_count": 4
        }
      ]
    },
    {
      "cell_type": "code",
      "metadata": {
        "id": "Q7S5rpjFuIuq",
        "colab_type": "code",
        "colab": {
          "base_uri": "https://localhost:8080/",
          "height": 187
        },
        "outputId": "9603486b-30ab-4429-b7b6-35af78846a56"
      },
      "source": [
        "#Now, before any other preprocessing is done, let it be verified if whether or not the data is balanced\n",
        "#Checking the nature of data\n",
        "data.info()"
      ],
      "execution_count": 5,
      "outputs": [
        {
          "output_type": "stream",
          "text": [
            "<class 'pandas.core.frame.DataFrame'>\n",
            "RangeIndex: 28619 entries, 0 to 28618\n",
            "Data columns (total 3 columns):\n",
            " #   Column        Non-Null Count  Dtype \n",
            "---  ------        --------------  ----- \n",
            " 0   is_sarcastic  28619 non-null  int64 \n",
            " 1   headline      28619 non-null  object\n",
            " 2   organization  28619 non-null  object\n",
            "dtypes: int64(1), object(2)\n",
            "memory usage: 670.9+ KB\n"
          ],
          "name": "stdout"
        }
      ]
    },
    {
      "cell_type": "markdown",
      "metadata": {
        "id": "30LAFoCJvAfb",
        "colab_type": "text"
      },
      "source": [
        "Data is complete. There is no null or empty values."
      ]
    },
    {
      "cell_type": "code",
      "metadata": {
        "id": "QADqqiK9vDWh",
        "colab_type": "code",
        "colab": {
          "base_uri": "https://localhost:8080/",
          "height": 297
        },
        "outputId": "56b8f3ae-d41d-47ae-e2bb-005a4ffc76e4"
      },
      "source": [
        "#Understanding the data, to see if it is skewed or not\n",
        "data.describe()"
      ],
      "execution_count": 6,
      "outputs": [
        {
          "output_type": "execute_result",
          "data": {
            "text/html": [
              "<div>\n",
              "<style scoped>\n",
              "    .dataframe tbody tr th:only-of-type {\n",
              "        vertical-align: middle;\n",
              "    }\n",
              "\n",
              "    .dataframe tbody tr th {\n",
              "        vertical-align: top;\n",
              "    }\n",
              "\n",
              "    .dataframe thead th {\n",
              "        text-align: right;\n",
              "    }\n",
              "</style>\n",
              "<table border=\"1\" class=\"dataframe\">\n",
              "  <thead>\n",
              "    <tr style=\"text-align: right;\">\n",
              "      <th></th>\n",
              "      <th>is_sarcastic</th>\n",
              "    </tr>\n",
              "  </thead>\n",
              "  <tbody>\n",
              "    <tr>\n",
              "      <th>count</th>\n",
              "      <td>28619.000000</td>\n",
              "    </tr>\n",
              "    <tr>\n",
              "      <th>mean</th>\n",
              "      <td>0.476397</td>\n",
              "    </tr>\n",
              "    <tr>\n",
              "      <th>std</th>\n",
              "      <td>0.499451</td>\n",
              "    </tr>\n",
              "    <tr>\n",
              "      <th>min</th>\n",
              "      <td>0.000000</td>\n",
              "    </tr>\n",
              "    <tr>\n",
              "      <th>25%</th>\n",
              "      <td>0.000000</td>\n",
              "    </tr>\n",
              "    <tr>\n",
              "      <th>50%</th>\n",
              "      <td>0.000000</td>\n",
              "    </tr>\n",
              "    <tr>\n",
              "      <th>75%</th>\n",
              "      <td>1.000000</td>\n",
              "    </tr>\n",
              "    <tr>\n",
              "      <th>max</th>\n",
              "      <td>1.000000</td>\n",
              "    </tr>\n",
              "  </tbody>\n",
              "</table>\n",
              "</div>"
            ],
            "text/plain": [
              "       is_sarcastic\n",
              "count  28619.000000\n",
              "mean       0.476397\n",
              "std        0.499451\n",
              "min        0.000000\n",
              "25%        0.000000\n",
              "50%        0.000000\n",
              "75%        1.000000\n",
              "max        1.000000"
            ]
          },
          "metadata": {
            "tags": []
          },
          "execution_count": 6
        }
      ]
    },
    {
      "cell_type": "markdown",
      "metadata": {
        "id": "0HQSFwh6wFkS",
        "colab_type": "text"
      },
      "source": [
        "Since the column \"is_sarcastic\" takes only binary values, and the mean is 0.4763, or approximately 47.6%, the data is not heavily skewed."
      ]
    },
    {
      "cell_type": "code",
      "metadata": {
        "id": "20gQYjdTwJ-b",
        "colab_type": "code",
        "colab": {
          "base_uri": "https://localhost:8080/",
          "height": 281
        },
        "outputId": "8fc7f849-33c6-491b-e5ea-dfd8718fe911"
      },
      "source": [
        "#The above statements can be visualised as\n",
        "sarcastic=0\n",
        "for i in range(len(data[\"is_sarcastic\"])):\n",
        "    if data[\"is_sarcastic\"].iloc[i]==1:\n",
        "        sarcastic+=1\n",
        "normal=len(data[\"is_sarcastic\"])-sarcastic\n",
        "label_values={\"Sarcastic Headlines\" : sarcastic, \"Non-Sarcastic Headlines\" : normal}\n",
        "plt.bar(label_values.keys(),label_values.values(),align=\"center\")\n",
        "plt.title(\"Number of Sarcastic vs Non-Sarcastic Headlines\")\n",
        "plt.ylabel(\"Number of Headlines\")\n",
        "plt.show()"
      ],
      "execution_count": 7,
      "outputs": [
        {
          "output_type": "display_data",
          "data": {
            "image/png": "[encoded data removed]",
            "text/plain": [
              "<Figure size 432x288 with 1 Axes>"
            ]
          },
          "metadata": {
            "tags": [],
            "needs_background": "light"
          }
        }
      ]
    },
    {
      "cell_type": "code",
      "metadata": {
        "id": "uaEgXuaYwOXo",
        "colab_type": "code",
        "colab": {
          "base_uri": "https://localhost:8080/",
          "height": 281
        },
        "outputId": "ba24905e-d737-42a4-f0b4-2d6f20c8d1d4"
      },
      "source": [
        "#Now, to ignore the effect of the organization on whether a headline is sarcastic, we need to check for skew\n",
        "#list(data[\"organization\"].unique()) returns only two organizations 'huffingtonpost' and 'theonion'\n",
        "org_labels={\"huffingtonpost\" : 0, \"theonion\" : 0}\n",
        "for i in range(len(data[\"organization\"])):\n",
        "    if data[\"is_sarcastic\"].iloc[i]==1:\n",
        "        org_labels[data[\"organization\"].iloc[i]]+=1\n",
        "plt.bar(org_labels.keys(),org_labels.values(),align=\"center\")\n",
        "plt.title(\"Comparing Number of Sarcastic Headlines per Organization\")\n",
        "plt.ylabel(\"Number of Headlines\")\n",
        "plt.show()"
      ],
      "execution_count": 8,
      "outputs": [
        {
          "output_type": "display_data",
          "data": {
            "image/png": "[encoded data removed]",
            "text/plain": [
              "<Figure size 432x288 with 1 Axes>"
            ]
          },
          "metadata": {
            "tags": [],
            "needs_background": "light"
          }
        }
      ]
    },
    {
      "cell_type": "markdown",
      "metadata": {
        "id": "3gDUYZtOw0oK",
        "colab_type": "text"
      },
      "source": [
        "This makes a very interesting observation, that ALL the sarcastic headlines come from \"theonion\", and none from \"huffingtonpost\". This renders the segregation useless, as they basically represent nothing but the labels themselves."
      ]
    },
    {
      "cell_type": "code",
      "metadata": {
        "id": "2tLbsVITw7Ae",
        "colab_type": "code",
        "colab": {
          "base_uri": "https://localhost:8080/",
          "height": 204
        },
        "outputId": "ec2e761b-923d-4bd9-862c-ece055f24471"
      },
      "source": [
        "#Dropping the \"organization\" column\n",
        "data=data.drop([\"organization\"],axis=1)\n",
        "data.head()"
      ],
      "execution_count": 9,
      "outputs": [
        {
          "output_type": "execute_result",
          "data": {
            "text/html": [
              "<div>\n",
              "<style scoped>\n",
              "    .dataframe tbody tr th:only-of-type {\n",
              "        vertical-align: middle;\n",
              "    }\n",
              "\n",
              "    .dataframe tbody tr th {\n",
              "        vertical-align: top;\n",
              "    }\n",
              "\n",
              "    .dataframe thead th {\n",
              "        text-align: right;\n",
              "    }\n",
              "</style>\n",
              "<table border=\"1\" class=\"dataframe\">\n",
              "  <thead>\n",
              "    <tr style=\"text-align: right;\">\n",
              "      <th></th>\n",
              "      <th>is_sarcastic</th>\n",
              "      <th>headline</th>\n",
              "    </tr>\n",
              "  </thead>\n",
              "  <tbody>\n",
              "    <tr>\n",
              "      <th>0</th>\n",
              "      <td>1</td>\n",
              "      <td>thirtysomething scientists unveil doomsday clo...</td>\n",
              "    </tr>\n",
              "    <tr>\n",
              "      <th>1</th>\n",
              "      <td>0</td>\n",
              "      <td>dem rep. totally nails why congress is falling...</td>\n",
              "    </tr>\n",
              "    <tr>\n",
              "      <th>2</th>\n",
              "      <td>0</td>\n",
              "      <td>eat your veggies: 9 deliciously different recipes</td>\n",
              "    </tr>\n",
              "    <tr>\n",
              "      <th>3</th>\n",
              "      <td>1</td>\n",
              "      <td>inclement weather prevents liar from getting t...</td>\n",
              "    </tr>\n",
              "    <tr>\n",
              "      <th>4</th>\n",
              "      <td>1</td>\n",
              "      <td>mother comes pretty close to using word 'strea...</td>\n",
              "    </tr>\n",
              "  </tbody>\n",
              "</table>\n",
              "</div>"
            ],
            "text/plain": [
              "   is_sarcastic                                           headline\n",
              "0             1  thirtysomething scientists unveil doomsday clo...\n",
              "1             0  dem rep. totally nails why congress is falling...\n",
              "2             0  eat your veggies: 9 deliciously different recipes\n",
              "3             1  inclement weather prevents liar from getting t...\n",
              "4             1  mother comes pretty close to using word 'strea..."
            ]
          },
          "metadata": {
            "tags": []
          },
          "execution_count": 9
        }
      ]
    },
    {
      "cell_type": "markdown",
      "metadata": {
        "id": "TBXeLs8JxGUa",
        "colab_type": "text"
      },
      "source": [
        "The next step is to tokenize all of the headlines. This means : '''This class allows to vectorize a text corpus, by turning each text into either a sequence of integers (each integer being the index of a token in a dictionary) or into a vector where the coefficient for each token could be binary, based on word count, based on tf-idf...''' "
      ]
    },
    {
      "cell_type": "code",
      "metadata": {
        "id": "Db3YJ8nCxG1A",
        "colab_type": "code",
        "colab": {
          "base_uri": "https://localhost:8080/",
          "height": 68
        },
        "outputId": "e57cf3a8-f32b-4b73-a21f-059d7b9c444e"
      },
      "source": [
        "from keras.preprocessing.text import Tokenizer\n",
        "from keras.preprocessing.sequence import pad_sequences\n",
        "from keras.utils import to_categorical\n",
        "\n",
        "#Note that the training data/test data split will be done later\n",
        "\n",
        "num_words=20000\n",
        "max_sentence_len=300\n",
        "tokenizer=Tokenizer(num_words=num_words)\n",
        "tokenizer.fit_on_texts(list(data[\"headline\"]))\n",
        "X=tokenizer.texts_to_sequences(list(data[\"headline\"]))\n",
        "X=pad_sequences(X,maxlen=max_sentence_len)\n",
        "Y=to_categorical(data[\"is_sarcastic\"].values)\n",
        "print(\"The number of unique words in the text corpus dictionary : {}\".format(len(tokenizer.word_index)))\n",
        "print(\"The shape of the trainable data : {}\".format(X.shape))\n",
        "print(\"The shape of the labels for the data is : {}\".format(Y.shape))"
      ],
      "execution_count": 10,
      "outputs": [
        {
          "output_type": "stream",
          "text": [
            "The number of unique words in the text corpus dictionary : 30884\n",
            "The shape of the trainable data : (28619, 300)\n",
            "The shape of the labels for the data is : (28619, 2)\n"
          ],
          "name": "stdout"
        }
      ]
    },
    {
      "cell_type": "markdown",
      "metadata": {
        "id": "cP1xJH0txU1-",
        "colab_type": "text"
      },
      "source": [
        "It is observed that the number of unique wordsin the text dictionary made using tokenizer is 30,884, and the maximum allowed as per this cell is 20000. This basically means that the other 10,884 words are discarded, due to them being less frequent."
      ]
    },
    {
      "cell_type": "code",
      "metadata": {
        "id": "mNtPlgsZxlRg",
        "colab_type": "code",
        "colab": {
          "base_uri": "https://localhost:8080/",
          "height": 34
        },
        "outputId": "d9597e02-1984-4dc2-f520-ee143145e716"
      },
      "source": [
        "#Getting the pre trained GloVe embeddings into the embedding matrix from the link used in this cell\n",
        "\n",
        "embedding_words={}\n",
        "file=open('/content/drive/My Drive/Colab Notebooks/glove.6B.300d.txt','r', encoding=\"utf-8\")\n",
        "for line in file:\n",
        "    #There are a number of lines containing embeddings for each word\n",
        "    info=line.split(\" \")\n",
        "    #The first value in each line of the file is a unique word\n",
        "    word=info[0]\n",
        "    #The rest are embedding values of a specific dimension (to be displayed)\n",
        "    embedding_values=np.array(info[1:],dtype=\"float32\")\n",
        "    #Storing these values\n",
        "    embedding_words[word]=embedding_values\n",
        "file.close()\n",
        "print(\"The dimension/length of the embedding vector for each word is : {}\"\n",
        "     .format(len(embedding_words[\"go\"])))"
      ],
      "execution_count": 11,
      "outputs": [
        {
          "output_type": "stream",
          "text": [
            "The dimension/length of the embedding vector for each word is : 300\n"
          ],
          "name": "stdout"
        }
      ]
    },
    {
      "cell_type": "markdown",
      "metadata": {
        "id": "RcrHqTCn3WZs",
        "colab_type": "text"
      },
      "source": [
        "Now, from these \"embedding_words\", the embedding matrix is obtained by running the cell below:"
      ]
    },
    {
      "cell_type": "code",
      "metadata": {
        "id": "pRU4pDxH3Xf6",
        "colab_type": "code",
        "colab": {}
      },
      "source": [
        "from keras.layers import Embedding\n",
        "from keras.initializers import Constant\n",
        "\n",
        "#The length/dimension of the embedding vector was found to be 300 after running the previous cell\n",
        "embedding_dim=len(embedding_words[\"go\"]) #or simply 300\n",
        "#Initialising the embedding matrix\n",
        "embedding_matrix=np.zeros((num_words,embedding_dim))\n",
        "#Forming the embedding matrix by using the embedding vectors for only those words in the text corpus of the data  \n",
        "for word,i in tokenizer.word_index.items():\n",
        "    if i>num_words:\n",
        "        continue\n",
        "    embedding_vector=embedding_words.get(word)\n",
        "    if embedding_vector is not None:\n",
        "        embedding_matrix[i]=embedding_vector"
      ],
      "execution_count": 0,
      "outputs": []
    },
    {
      "cell_type": "code",
      "metadata": {
        "id": "L4-tjIDe3bp1",
        "colab_type": "code",
        "colab": {
          "base_uri": "https://localhost:8080/",
          "height": 34
        },
        "outputId": "0e88e45b-0826-432f-f6ab-51131e1b81f9"
      },
      "source": [
        "#Creating the embedding layer further with the help of keras\n",
        "#These embeddings are made non-trainable as they are pre trained to highly optimized values\n",
        "embeddings=Embedding(num_words,embedding_dim,embeddings_initializer=Constant(embedding_matrix),\n",
        "                    input_length=max_sentence_len,trainable=False)\n",
        "#Getting the shape of the embedding matrix (should be (num_words,embedding_dim)=(20000,300))\n",
        "print(\"The shape of the embedding matrix is {}\".format(embedding_matrix.shape))"
      ],
      "execution_count": 13,
      "outputs": [
        {
          "output_type": "stream",
          "text": [
            "The shape of the embedding matrix is (20000, 300)\n"
          ],
          "name": "stdout"
        }
      ]
    },
    {
      "cell_type": "code",
      "metadata": {
        "id": "C_dz3sr13lpE",
        "colab_type": "code",
        "colab": {}
      },
      "source": [
        "#Building the model\n",
        "from keras.models import Sequential\n",
        "from keras.layers import Dense, Flatten, Dropout, LSTM, Bidirectional, Conv1D, MaxPooling1D \n",
        "\n",
        "model=Sequential()\n",
        "model.add(embeddings)\n",
        "model.add(Conv1D(32,3,activation=\"relu\"))\n",
        "model.add(MaxPooling1D(pool_size=2))\n",
        "model.add(Dropout(0.5))\n",
        "model.add(Bidirectional(LSTM(128,return_sequences=True)))\n",
        "model.add(Flatten())\n",
        "model.add(Dense(30,activation=\"relu\"))\n",
        "model.add(Dropout(0.5))\n",
        "model.add(Dense(2,activation=\"sigmoid\"))\n",
        "model.compile(loss=\"binary_crossentropy\",optimizer=\"adam\",metrics=[\"accuracy\"])"
      ],
      "execution_count": 0,
      "outputs": []
    },
    {
      "cell_type": "code",
      "metadata": {
        "id": "c2DAUCe53mj5",
        "colab_type": "code",
        "colab": {}
      },
      "source": [
        "#Splittting the data into training and testing sets before fitting the model\n",
        "#Using a 80% - 20% split for the data\n",
        "from sklearn.model_selection import train_test_split\n",
        "x_train,x_test,y_train,y_test=train_test_split(X,Y,test_size=0.2)"
      ],
      "execution_count": 0,
      "outputs": []
    },
    {
      "cell_type": "code",
      "metadata": {
        "id": "yddLUgTh3qPJ",
        "colab_type": "code",
        "colab": {
          "base_uri": "https://localhost:8080/",
          "height": 394
        },
        "outputId": "d58026f8-7c36-4c6b-ba33-2ec30155cd72"
      },
      "source": [
        "batch_size=128 #Using a batch size of 128, during gradient descent\n",
        "num_epochs=10 #Number of iterations/epochs over the training set\n",
        "\n",
        "history=model.fit(x_train,y_train,batch_size=batch_size,epochs=num_epochs,validation_data=(x_test,y_test))"
      ],
      "execution_count": 16,
      "outputs": [
        {
          "output_type": "stream",
          "text": [
            "Train on 22895 samples, validate on 5724 samples\n",
            "Epoch 1/10\n",
            "22895/22895 [==============================] - 231s 10ms/step - loss: 0.5564 - accuracy: 0.7149 - val_loss: 0.4571 - val_accuracy: 0.7721\n",
            "Epoch 2/10\n",
            "22895/22895 [==============================] - 227s 10ms/step - loss: 0.4397 - accuracy: 0.8025 - val_loss: 0.3806 - val_accuracy: 0.8244\n",
            "Epoch 3/10\n",
            "22895/22895 [==============================] - 230s 10ms/step - loss: 0.3951 - accuracy: 0.8276 - val_loss: 0.3694 - val_accuracy: 0.8316\n",
            "Epoch 4/10\n",
            "22895/22895 [==============================] - 227s 10ms/step - loss: 0.3692 - accuracy: 0.8402 - val_loss: 0.3584 - val_accuracy: 0.8409\n",
            "Epoch 5/10\n",
            "22895/22895 [==============================] - 229s 10ms/step - loss: 0.3472 - accuracy: 0.8528 - val_loss: 0.3495 - val_accuracy: 0.8401\n",
            "Epoch 6/10\n",
            "22895/22895 [==============================] - 231s 10ms/step - loss: 0.3329 - accuracy: 0.8570 - val_loss: 0.3501 - val_accuracy: 0.8435\n",
            "Epoch 7/10\n",
            "22895/22895 [==============================] - 227s 10ms/step - loss: 0.3180 - accuracy: 0.8686 - val_loss: 0.3369 - val_accuracy: 0.8477\n",
            "Epoch 8/10\n",
            "22895/22895 [==============================] - 228s 10ms/step - loss: 0.3079 - accuracy: 0.8732 - val_loss: 0.3428 - val_accuracy: 0.8465\n",
            "Epoch 9/10\n",
            "22895/22895 [==============================] - 227s 10ms/step - loss: 0.2992 - accuracy: 0.8756 - val_loss: 0.3372 - val_accuracy: 0.8512\n",
            "Epoch 10/10\n",
            "22895/22895 [==============================] - 230s 10ms/step - loss: 0.2878 - accuracy: 0.8811 - val_loss: 0.3395 - val_accuracy: 0.8536\n"
          ],
          "name": "stdout"
        }
      ]
    },
    {
      "cell_type": "code",
      "metadata": {
        "id": "SYfzrKiV3t1s",
        "colab_type": "code",
        "colab": {
          "base_uri": "https://localhost:8080/",
          "height": 68
        },
        "outputId": "90165fb7-1531-49d9-dd84-8fc8b1022d03"
      },
      "source": [
        "test_performance=model.evaluate(x_test,y_test)\n",
        "print(\"The loss of the model on the test set : {}\".format(test_performance[0]))\n",
        "print(\"The accuracy of the model on the test set : {}%\".format(test_performance[1]*100))"
      ],
      "execution_count": 17,
      "outputs": [
        {
          "output_type": "stream",
          "text": [
            "5724/5724 [==============================] - 14s 2ms/step\n",
            "The loss of the model on the test set : 0.3395444588341303\n",
            "The accuracy of the model on the test set : 85.35988926887512%\n"
          ],
          "name": "stdout"
        }
      ]
    },
    {
      "cell_type": "code",
      "metadata": {
        "id": "fuBk1Mwr3xpA",
        "colab_type": "code",
        "colab": {
          "base_uri": "https://localhost:8080/",
          "height": 459
        },
        "outputId": "c1d9faa9-42c4-44a7-fd1a-831495d132b0"
      },
      "source": [
        "#Visualising the summary of the network used\n",
        "model.summary()"
      ],
      "execution_count": 18,
      "outputs": [
        {
          "output_type": "stream",
          "text": [
            "Model: \"sequential_1\"\n",
            "_________________________________________________________________\n",
            "Layer (type)                 Output Shape              Param #   \n",
            "=================================================================\n",
            "embedding_1 (Embedding)      (None, 300, 300)          6000000   \n",
            "_________________________________________________________________\n",
            "conv1d_1 (Conv1D)            (None, 298, 32)           28832     \n",
            "_________________________________________________________________\n",
            "max_pooling1d_1 (MaxPooling1 (None, 149, 32)           0         \n",
            "_________________________________________________________________\n",
            "dropout_1 (Dropout)          (None, 149, 32)           0         \n",
            "_________________________________________________________________\n",
            "bidirectional_1 (Bidirection (None, 149, 256)          164864    \n",
            "_________________________________________________________________\n",
            "flatten_1 (Flatten)          (None, 38144)             0         \n",
            "_________________________________________________________________\n",
            "dense_1 (Dense)              (None, 30)                1144350   \n",
            "_________________________________________________________________\n",
            "dropout_2 (Dropout)          (None, 30)                0         \n",
            "_________________________________________________________________\n",
            "dense_2 (Dense)              (None, 2)                 62        \n",
            "=================================================================\n",
            "Total params: 7,338,108\n",
            "Trainable params: 1,338,108\n",
            "Non-trainable params: 6,000,000\n",
            "_________________________________________________________________\n"
          ],
          "name": "stdout"
        }
      ]
    },
    {
      "cell_type": "code",
      "metadata": {
        "id": "UALfbEBM305W",
        "colab_type": "code",
        "colab": {
          "base_uri": "https://localhost:8080/",
          "height": 953
        },
        "outputId": "a3a22817-ad53-42db-a619-184ba75ef066"
      },
      "source": [
        "#Visualising the network architecture of the model\n",
        "from keras.utils import plot_model\n",
        "plot_model(model,to_file=\"bidir_lstm.jpg\")"
      ],
      "execution_count": 19,
      "outputs": [
        {
          "output_type": "execute_result",
          "data": {
            "image/jpeg": "[encoded data removed]",
            "text/plain": [
              "<IPython.core.display.Image object>"
            ]
          },
          "metadata": {
            "tags": []
          },
          "execution_count": 19
        }
      ]
    },
    {
      "cell_type": "code",
      "metadata": {
        "id": "DwcoyCRa34GM",
        "colab_type": "code",
        "colab": {
          "base_uri": "https://localhost:8080/",
          "height": 295
        },
        "outputId": "b28a2397-ae5c-421d-c7ca-3d8cba5b2bd1"
      },
      "source": [
        "#Visualising the loss of the model, throughout the training process\n",
        "plt.plot(history.history['loss'])\n",
        "plt.plot(history.history['val_loss'])\n",
        "plt.title('Model loss')\n",
        "plt.ylabel('Loss')\n",
        "plt.xlabel('Epoch')\n",
        "plt.legend(['Train', 'Test'], loc='upper right')\n",
        "plt.savefig(\"modelloss_sarcasmdetection.jpg\")"
      ],
      "execution_count": 20,
      "outputs": [
        {
          "output_type": "display_data",
          "data": {
            "image/png": "[encoded data removed]",
            "text/plain": [
              "<Figure size 432x288 with 1 Axes>"
            ]
          },
          "metadata": {
            "tags": [],
            "needs_background": "light"
          }
        }
      ]
    },
    {
      "cell_type": "code",
      "metadata": {
        "id": "ByInyTSl38DK",
        "colab_type": "code",
        "colab": {
          "base_uri": "https://localhost:8080/",
          "height": 295
        },
        "outputId": "62dddeaa-0cf8-41ed-9702-3d952c27485c"
      },
      "source": [
        "#Visualising the accuracy of the model, throughout the training process\n",
        "plt.plot(history.history['accuracy'])\n",
        "plt.plot(history.history['val_accuracy'])\n",
        "plt.title('Model accuracy')\n",
        "plt.ylabel('Accuracy')\n",
        "plt.xlabel('Epoch')\n",
        "plt.legend(['Train', 'Test'], loc='upper left')\n",
        "plt.savefig(\"modelacc_sarcasmdetection.jpg\")"
      ],
      "execution_count": 21,
      "outputs": [
        {
          "output_type": "display_data",
          "data": {
            "image/png": "[encoded data removed]",
            "text/plain": [
              "<Figure size 432x288 with 1 Axes>"
            ]
          },
          "metadata": {
            "tags": [],
            "needs_background": "light"
          }
        }
      ]
    },
    {
      "cell_type": "code",
      "metadata": {
        "id": "whUyltLB4EoS",
        "colab_type": "code",
        "colab": {
          "base_uri": "https://localhost:8080/",
          "height": 85
        },
        "outputId": "850c7f42-a5d2-4778-f9cf-8eb111529f8f"
      },
      "source": [
        "#Checking the validity of this model on some own made up headlines\n",
        "\n",
        "my_headline1=\"Of course you meant that\" #Meant to be sarcastic\n",
        "my_headline2=\"The facts imply that the suspect used a gun\" #Meant to be non-sarcastic\n",
        "my_headline3=\"It looks like Trump is very affectionate\" #Meant to be sarcastic\n",
        "my_headline4=\"The economy is on the brink of collapse\" #Meant to be non-sarcastic\n",
        "\n",
        "my_headline11=tokenizer.texts_to_sequences(my_headline1)\n",
        "my_headline22=tokenizer.texts_to_sequences(my_headline2)\n",
        "my_headline33=tokenizer.texts_to_sequences(my_headline3)\n",
        "my_headline44=tokenizer.texts_to_sequences(my_headline4)\n",
        "\n",
        "my_headline11=pad_sequences(my_headline11,maxlen=max_sentence_len,dtype=\"int32\",value=0)\n",
        "my_headline22=pad_sequences(my_headline22,maxlen=max_sentence_len,dtype=\"int32\",value=0)\n",
        "my_headline33=pad_sequences(my_headline33,maxlen=max_sentence_len,dtype=\"int32\",value=0)\n",
        "my_headline44=pad_sequences(my_headline44,maxlen=max_sentence_len,dtype=\"int32\",value=0)\n",
        "\n",
        "prediction1=model.predict(my_headline11,batch_size=1)[0]\n",
        "prediction2=model.predict(my_headline22,batch_size=1)[0]\n",
        "prediction3=model.predict(my_headline33,batch_size=1)[0]\n",
        "prediction4=model.predict(my_headline44,batch_size=1)[0]\n",
        "\n",
        "if np.argmax(prediction1)==1:\n",
        "    print(\"The headline - \" + my_headline1 + \" : Not Sarcastic\")\n",
        "else:\n",
        "    print(\"The headline - \" + my_headline1 + \" : Sarcastic\")\n",
        "    \n",
        "if np.argmax(prediction2)==1:\n",
        "    print(\"The headline - \" + my_headline2 + \" : Not Sarcastic\")\n",
        "else:\n",
        "    print(\"The headline - \" + my_headline2 + \" : Sarcastic\")\n",
        "\n",
        "if np.argmax(prediction3)==1:\n",
        "    print(\"The headline - \" + my_headline3 + \" : Not Sarcastic\")\n",
        "else:\n",
        "    print(\"The headline - \" + my_headline3 + \" : Sarcastic\")\n",
        "    \n",
        "if np.argmax(prediction4)==1:\n",
        "    print(\"The headline - \" + my_headline4 + \" : Not Sarcastic\")\n",
        "else:\n",
        "    print(\"The headline - \" + my_headline4 + \" : Sarcastic\")"
      ],
      "execution_count": 22,
      "outputs": [
        {
          "output_type": "stream",
          "text": [
            "The headline - Of course you meant that : Sarcastic\n",
            "The headline - The facts imply that the suspect used a gun : Sarcastic\n",
            "The headline - It looks like Trump is very affectionate : Sarcastic\n",
            "The headline - The economy is on the brink of collapse : Sarcastic\n"
          ],
          "name": "stdout"
        }
      ]
    },
    {
      "cell_type": "code",
      "metadata": {
        "id": "-RJhhWtJN9Iu",
        "colab_type": "code",
        "colab": {}
      },
      "source": [
        "#Saving the model to the disk\n",
        "model_json = model.to_json()\n",
        "with open(\"model_sarcasmdetection.json\", \"w\") as json_file:\n",
        "    json_file.write(model_json)\n",
        "model.save_weights(\"model_sarcasmdetection.h5\")"
      ],
      "execution_count": 0,
      "outputs": []
    },
    {
      "cell_type": "code",
      "metadata": {
        "id": "1YkXQ6xzN-ln",
        "colab_type": "code",
        "colab": {}
      },
      "source": [
        ""
      ],
      "execution_count": 0,
      "outputs": []
    }
  ]
}